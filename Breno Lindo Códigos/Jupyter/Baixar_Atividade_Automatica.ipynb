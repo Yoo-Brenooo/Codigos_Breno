{
 "cells": [
  {
   "cell_type": "markdown",
   "id": "e3626552",
   "metadata": {},
   "source": [
    "# Baixar Atividade Automaticamente"
   ]
  },
  {
   "cell_type": "code",
   "execution_count": null,
   "id": "bece38a0",
   "metadata": {},
   "outputs": [],
   "source": [
    "import pyautogui as aut\n",
    "\n",
    "# Abrir a janela do Windowns\n",
    "aut.press(\"win\")\n",
    "aut.sleep(1)\n",
    "\n",
    "# Entrar Google\n",
    "aut.write(\"google\")\n",
    "aut.press(\"enter\")\n",
    "\n",
    "# Logar na minha conta\n",
    "aut.sleep(1)\n",
    "aut.moveTo(773,581)\n",
    "aut.click()\n",
    "\n",
    "# Entrar no Classroom\n",
    "aut.sleep(1)\n",
    "aut.write(\"https://classroom.google.com/c/NzAwNTU0Njc2MzY3\")\n",
    "aut.press(\"enter\")\n",
    "\n",
    "# Entrar na ultima atividade\n",
    "aut.sleep(4)\n",
    "aut.moveTo(1184,607)\n",
    "aut.click()\n",
    "\n",
    "# Baixar a ultima atividade\n",
    "aut.sleep(2)\n",
    "aut.moveTo(1525,253)\n",
    "aut.sleep(2)\n",
    "aut.click()\n",
    "aut.moveTo(974,567)\n",
    "aut.sleep(2)\n",
    "aut.click()\n",
    "aut.sleep(2)\n",
    "\n",
    "# Mover o arquivo para a pasta correta\n",
    "aut.hotkey(\"win\", \"e\")\n",
    "aut.moveTo(347,609)\n",
    "aut.sleep(1)\n",
    "aut.click()\n",
    "aut.sleep(1)\n",
    "aut.moveTo(575,4717)\n",
    "aut.sleep(1)\n",
    "aut.click()\n",
    "aut.hotkey(\"ctrl\", \"c\")\n",
    "aut.sleep(1)\n",
    "aut.moveTo(351,575)\n",
    "aut.sleep(1)\n",
    "aut.click()\n",
    "aut.sleep(1)\n",
    "aut.moveTo(616,458)\n",
    "aut.sleep(1)\n",
    "aut.click()\n",
    "aut.click()\n",
    "aut.sleep(1)\n",
    "aut.click()\n",
    "aut.click()\n",
    "aut.moveTo(1257,707)\n",
    "aut.click()\n",
    "aut.hotkey(\"ctrl\", \"v\")"
   ]
  }
 ],
 "metadata": {
  "kernelspec": {
   "display_name": "Python 3",
   "language": "python",
   "name": "python3"
  },
  "language_info": {
   "codemirror_mode": {
    "name": "ipython",
    "version": 3
   },
   "file_extension": ".py",
   "mimetype": "text/x-python",
   "name": "python",
   "nbconvert_exporter": "python",
   "pygments_lexer": "ipython3",
   "version": "3.13.2"
  }
 },
 "nbformat": 4,
 "nbformat_minor": 5
}
